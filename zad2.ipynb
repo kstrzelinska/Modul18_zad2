{
 "cells": [
  {
   "cell_type": "markdown",
   "id": "c4e0e477-c07d-4cfb-b02e-6f0493124f46",
   "metadata": {},
   "source": [
    "**1**"
   ]
  },
  {
   "cell_type": "markdown",
   "id": "0d89c746-7e52-410c-a08d-d35950f7445a",
   "metadata": {},
   "source": [
    "Pierwszym krokiem będzie zaimplementowanie sieci neuronowej na używanym wcześniej zestawie Fashion-Mnist tak, aby uzyskać wynik na danych testowych rzędu accuracy > 0.94\n",
    "* zwiększenie liczby epok\n",
    "* zwiększenie liczby neuronów w warstwie"
   ]
  },
  {
   "cell_type": "code",
   "execution_count": 1,
   "id": "865d80e2-1d56-41c5-b703-e138d2772993",
   "metadata": {},
   "outputs": [],
   "source": [
    "import matplotlib.pyplot as plt"
   ]
  },
  {
   "cell_type": "code",
   "execution_count": 2,
   "id": "55b19703-e744-4ca1-88a5-644eb2417790",
   "metadata": {},
   "outputs": [],
   "source": [
    "import pandas as pd"
   ]
  },
  {
   "cell_type": "code",
   "execution_count": 3,
   "id": "dcb0d51e-5afd-41e8-b309-9df6dc317bb1",
   "metadata": {},
   "outputs": [],
   "source": [
    "import tensorflow as tf"
   ]
  },
  {
   "cell_type": "code",
   "execution_count": 4,
   "id": "5f946e7b-1227-4ddf-8a76-ab18f7ffc323",
   "metadata": {},
   "outputs": [],
   "source": [
    "import numpy as np"
   ]
  },
  {
   "cell_type": "code",
   "execution_count": 5,
   "id": "07a6c38c-0d8a-4e92-9727-8b04cd757a62",
   "metadata": {},
   "outputs": [],
   "source": [
    "# Ładowanie danych Fashion MNIST\n",
    "(train_images, train_labels), (test_images, test_labels) = tf.keras.datasets.fashion_mnist.load_data()\n",
    "\n",
    "# Normalizacja wartości pikseli\n",
    "train_images = train_images / 255.0\n",
    "test_images = test_images / 255.0\n",
    "\n",
    "# Konwersja etykiet na int32\n",
    "train_labels = train_labels.astype(np.int32)\n",
    "test_labels = test_labels.astype(np.int32)\n",
    "\n",
    "# Tworzenie datasetu TensorFlow\n",
    "dataset = tf.data.Dataset.from_tensor_slices((train_images, train_labels))\n"
   ]
  },
  {
   "cell_type": "code",
   "execution_count": 6,
   "id": "90fdce89-cde2-4a19-b010-2d293ea62a8e",
   "metadata": {},
   "outputs": [],
   "source": [
    "from sklearn.model_selection import train_test_split\n",
    "\n",
    "# Podział danych na zbiory treningowe i walidacyjne\n",
    "X_train, X_test, y_train, y_test = train_test_split(train_images, train_labels, test_size=0.1, random_state=10, stratify=train_labels)\n",
    "\n",
    "# stworzenie zbioru typu Dataset z naszej listy\n",
    "train_ds = tf.data.Dataset.from_tensor_slices((X_train, y_train))\n",
    "\n",
    "# ustawienie batch_size na 32 oraz przetasowanie na bazie 1000 próbek\n",
    "train_ds = train_ds.shuffle(1000).batch(32)"
   ]
  },
  {
   "cell_type": "code",
   "execution_count": 7,
   "id": "d2c67b17-f192-400e-bc9a-d3f1b82f7e62",
   "metadata": {},
   "outputs": [],
   "source": [
    "from tensorflow.keras import layers"
   ]
  },
  {
   "cell_type": "code",
   "execution_count": 8,
   "id": "9bbde144-0828-4019-a7a5-9c5095e37329",
   "metadata": {},
   "outputs": [
    {
     "name": "stderr",
     "output_type": "stream",
     "text": [
      "C:\\Users\\User\\AppData\\Local\\Programs\\Python\\Python311\\Lib\\site-packages\\keras\\src\\layers\\reshaping\\flatten.py:37: UserWarning: Do not pass an `input_shape`/`input_dim` argument to a layer. When using Sequential models, prefer using an `Input(shape)` object as the first layer in the model instead.\n",
      "  super().__init__(**kwargs)\n"
     ]
    }
   ],
   "source": [
    "f_mnist_model = tf.keras.Sequential([\n",
    "\n",
    "    layers.Flatten(input_shape=[28, 28]),\n",
    "\n",
    "    layers.Dense(320, activation='relu'),\n",
    "    layers.Dense(170, activation='relu'),\n",
    "\n",
    "    # ostatnia warstwa posiada tyle neuronów ile mamy klas\n",
    "    layers.Dense(10, activation='softmax')\n",
    "])\n",
    "\n",
    "# zwiekszenie liczy neuronow"
   ]
  },
  {
   "cell_type": "code",
   "execution_count": 9,
   "id": "e94cba3f-a35f-409d-a980-1161434b1089",
   "metadata": {},
   "outputs": [
    {
     "data": {
      "text/html": [
       "<pre style=\"white-space:pre;overflow-x:auto;line-height:normal;font-family:Menlo,'DejaVu Sans Mono',consolas,'Courier New',monospace\"><span style=\"font-weight: bold\">Model: \"sequential\"</span>\n",
       "</pre>\n"
      ],
      "text/plain": [
       "\u001b[1mModel: \"sequential\"\u001b[0m\n"
      ]
     },
     "metadata": {},
     "output_type": "display_data"
    },
    {
     "data": {
      "text/html": [
       "<pre style=\"white-space:pre;overflow-x:auto;line-height:normal;font-family:Menlo,'DejaVu Sans Mono',consolas,'Courier New',monospace\">┏━━━━━━━━━━━━━━━━━━━━━━━━━━━━━━━━━━━━━━┳━━━━━━━━━━━━━━━━━━━━━━━━━━━━━┳━━━━━━━━━━━━━━━━━┓\n",
       "┃<span style=\"font-weight: bold\"> Layer (type)                         </span>┃<span style=\"font-weight: bold\"> Output Shape                </span>┃<span style=\"font-weight: bold\">         Param # </span>┃\n",
       "┡━━━━━━━━━━━━━━━━━━━━━━━━━━━━━━━━━━━━━━╇━━━━━━━━━━━━━━━━━━━━━━━━━━━━━╇━━━━━━━━━━━━━━━━━┩\n",
       "│ flatten (<span style=\"color: #0087ff; text-decoration-color: #0087ff\">Flatten</span>)                    │ (<span style=\"color: #00d7ff; text-decoration-color: #00d7ff\">None</span>, <span style=\"color: #00af00; text-decoration-color: #00af00\">784</span>)                 │               <span style=\"color: #00af00; text-decoration-color: #00af00\">0</span> │\n",
       "├──────────────────────────────────────┼─────────────────────────────┼─────────────────┤\n",
       "│ dense (<span style=\"color: #0087ff; text-decoration-color: #0087ff\">Dense</span>)                        │ (<span style=\"color: #00d7ff; text-decoration-color: #00d7ff\">None</span>, <span style=\"color: #00af00; text-decoration-color: #00af00\">320</span>)                 │         <span style=\"color: #00af00; text-decoration-color: #00af00\">251,200</span> │\n",
       "├──────────────────────────────────────┼─────────────────────────────┼─────────────────┤\n",
       "│ dense_1 (<span style=\"color: #0087ff; text-decoration-color: #0087ff\">Dense</span>)                      │ (<span style=\"color: #00d7ff; text-decoration-color: #00d7ff\">None</span>, <span style=\"color: #00af00; text-decoration-color: #00af00\">170</span>)                 │          <span style=\"color: #00af00; text-decoration-color: #00af00\">54,570</span> │\n",
       "├──────────────────────────────────────┼─────────────────────────────┼─────────────────┤\n",
       "│ dense_2 (<span style=\"color: #0087ff; text-decoration-color: #0087ff\">Dense</span>)                      │ (<span style=\"color: #00d7ff; text-decoration-color: #00d7ff\">None</span>, <span style=\"color: #00af00; text-decoration-color: #00af00\">10</span>)                  │           <span style=\"color: #00af00; text-decoration-color: #00af00\">1,710</span> │\n",
       "└──────────────────────────────────────┴─────────────────────────────┴─────────────────┘\n",
       "</pre>\n"
      ],
      "text/plain": [
       "┏━━━━━━━━━━━━━━━━━━━━━━━━━━━━━━━━━━━━━━┳━━━━━━━━━━━━━━━━━━━━━━━━━━━━━┳━━━━━━━━━━━━━━━━━┓\n",
       "┃\u001b[1m \u001b[0m\u001b[1mLayer (type)                        \u001b[0m\u001b[1m \u001b[0m┃\u001b[1m \u001b[0m\u001b[1mOutput Shape               \u001b[0m\u001b[1m \u001b[0m┃\u001b[1m \u001b[0m\u001b[1m        Param #\u001b[0m\u001b[1m \u001b[0m┃\n",
       "┡━━━━━━━━━━━━━━━━━━━━━━━━━━━━━━━━━━━━━━╇━━━━━━━━━━━━━━━━━━━━━━━━━━━━━╇━━━━━━━━━━━━━━━━━┩\n",
       "│ flatten (\u001b[38;5;33mFlatten\u001b[0m)                    │ (\u001b[38;5;45mNone\u001b[0m, \u001b[38;5;34m784\u001b[0m)                 │               \u001b[38;5;34m0\u001b[0m │\n",
       "├──────────────────────────────────────┼─────────────────────────────┼─────────────────┤\n",
       "│ dense (\u001b[38;5;33mDense\u001b[0m)                        │ (\u001b[38;5;45mNone\u001b[0m, \u001b[38;5;34m320\u001b[0m)                 │         \u001b[38;5;34m251,200\u001b[0m │\n",
       "├──────────────────────────────────────┼─────────────────────────────┼─────────────────┤\n",
       "│ dense_1 (\u001b[38;5;33mDense\u001b[0m)                      │ (\u001b[38;5;45mNone\u001b[0m, \u001b[38;5;34m170\u001b[0m)                 │          \u001b[38;5;34m54,570\u001b[0m │\n",
       "├──────────────────────────────────────┼─────────────────────────────┼─────────────────┤\n",
       "│ dense_2 (\u001b[38;5;33mDense\u001b[0m)                      │ (\u001b[38;5;45mNone\u001b[0m, \u001b[38;5;34m10\u001b[0m)                  │           \u001b[38;5;34m1,710\u001b[0m │\n",
       "└──────────────────────────────────────┴─────────────────────────────┴─────────────────┘\n"
      ]
     },
     "metadata": {},
     "output_type": "display_data"
    },
    {
     "data": {
      "text/html": [
       "<pre style=\"white-space:pre;overflow-x:auto;line-height:normal;font-family:Menlo,'DejaVu Sans Mono',consolas,'Courier New',monospace\"><span style=\"font-weight: bold\"> Total params: </span><span style=\"color: #00af00; text-decoration-color: #00af00\">307,480</span> (1.17 MB)\n",
       "</pre>\n"
      ],
      "text/plain": [
       "\u001b[1m Total params: \u001b[0m\u001b[38;5;34m307,480\u001b[0m (1.17 MB)\n"
      ]
     },
     "metadata": {},
     "output_type": "display_data"
    },
    {
     "data": {
      "text/html": [
       "<pre style=\"white-space:pre;overflow-x:auto;line-height:normal;font-family:Menlo,'DejaVu Sans Mono',consolas,'Courier New',monospace\"><span style=\"font-weight: bold\"> Trainable params: </span><span style=\"color: #00af00; text-decoration-color: #00af00\">307,480</span> (1.17 MB)\n",
       "</pre>\n"
      ],
      "text/plain": [
       "\u001b[1m Trainable params: \u001b[0m\u001b[38;5;34m307,480\u001b[0m (1.17 MB)\n"
      ]
     },
     "metadata": {},
     "output_type": "display_data"
    },
    {
     "data": {
      "text/html": [
       "<pre style=\"white-space:pre;overflow-x:auto;line-height:normal;font-family:Menlo,'DejaVu Sans Mono',consolas,'Courier New',monospace\"><span style=\"font-weight: bold\"> Non-trainable params: </span><span style=\"color: #00af00; text-decoration-color: #00af00\">0</span> (0.00 B)\n",
       "</pre>\n"
      ],
      "text/plain": [
       "\u001b[1m Non-trainable params: \u001b[0m\u001b[38;5;34m0\u001b[0m (0.00 B)\n"
      ]
     },
     "metadata": {},
     "output_type": "display_data"
    }
   ],
   "source": [
    "f_mnist_model.summary()"
   ]
  },
  {
   "cell_type": "code",
   "execution_count": 10,
   "id": "2a8bde16-79bf-4087-a68e-d64ec3998829",
   "metadata": {},
   "outputs": [],
   "source": [
    "f_mnist_model.compile(\n",
    "    loss='sparse_categorical_crossentropy',\n",
    "    optimizer='adam',\n",
    "    metrics=['accuracy']\n",
    ")"
   ]
  },
  {
   "cell_type": "code",
   "execution_count": 11,
   "id": "c18ce262-c658-451d-a7f9-2962ac51c916",
   "metadata": {},
   "outputs": [
    {
     "name": "stdout",
     "output_type": "stream",
     "text": [
      "Epoch 1/20\n",
      "\u001b[1m1688/1688\u001b[0m \u001b[32m━━━━━━━━━━━━━━━━━━━━\u001b[0m\u001b[37m\u001b[0m \u001b[1m9s\u001b[0m 4ms/step - accuracy: 0.7788 - loss: 0.6161\n",
      "Epoch 2/20\n",
      "\u001b[1m1688/1688\u001b[0m \u001b[32m━━━━━━━━━━━━━━━━━━━━\u001b[0m\u001b[37m\u001b[0m \u001b[1m8s\u001b[0m 4ms/step - accuracy: 0.8607 - loss: 0.3835\n",
      "Epoch 3/20\n",
      "\u001b[1m1688/1688\u001b[0m \u001b[32m━━━━━━━━━━━━━━━━━━━━\u001b[0m\u001b[37m\u001b[0m \u001b[1m8s\u001b[0m 5ms/step - accuracy: 0.8751 - loss: 0.3373\n",
      "Epoch 4/20\n",
      "\u001b[1m1688/1688\u001b[0m \u001b[32m━━━━━━━━━━━━━━━━━━━━\u001b[0m\u001b[37m\u001b[0m \u001b[1m7s\u001b[0m 4ms/step - accuracy: 0.8844 - loss: 0.3114\n",
      "Epoch 5/20\n",
      "\u001b[1m1688/1688\u001b[0m \u001b[32m━━━━━━━━━━━━━━━━━━━━\u001b[0m\u001b[37m\u001b[0m \u001b[1m8s\u001b[0m 5ms/step - accuracy: 0.8909 - loss: 0.2914\n",
      "Epoch 6/20\n",
      "\u001b[1m1688/1688\u001b[0m \u001b[32m━━━━━━━━━━━━━━━━━━━━\u001b[0m\u001b[37m\u001b[0m \u001b[1m8s\u001b[0m 5ms/step - accuracy: 0.8943 - loss: 0.2788\n",
      "Epoch 7/20\n",
      "\u001b[1m1688/1688\u001b[0m \u001b[32m━━━━━━━━━━━━━━━━━━━━\u001b[0m\u001b[37m\u001b[0m \u001b[1m8s\u001b[0m 5ms/step - accuracy: 0.8998 - loss: 0.2619\n",
      "Epoch 8/20\n",
      "\u001b[1m1688/1688\u001b[0m \u001b[32m━━━━━━━━━━━━━━━━━━━━\u001b[0m\u001b[37m\u001b[0m \u001b[1m17s\u001b[0m 10ms/step - accuracy: 0.9042 - loss: 0.2538\n",
      "Epoch 9/20\n",
      "\u001b[1m1688/1688\u001b[0m \u001b[32m━━━━━━━━━━━━━━━━━━━━\u001b[0m\u001b[37m\u001b[0m \u001b[1m18s\u001b[0m 11ms/step - accuracy: 0.9095 - loss: 0.2396\n",
      "Epoch 10/20\n",
      "\u001b[1m1688/1688\u001b[0m \u001b[32m━━━━━━━━━━━━━━━━━━━━\u001b[0m\u001b[37m\u001b[0m \u001b[1m19s\u001b[0m 11ms/step - accuracy: 0.9153 - loss: 0.2235\n",
      "Epoch 11/20\n",
      "\u001b[1m1688/1688\u001b[0m \u001b[32m━━━━━━━━━━━━━━━━━━━━\u001b[0m\u001b[37m\u001b[0m \u001b[1m27s\u001b[0m 16ms/step - accuracy: 0.9153 - loss: 0.2233\n",
      "Epoch 12/20\n",
      "\u001b[1m1688/1688\u001b[0m \u001b[32m━━━━━━━━━━━━━━━━━━━━\u001b[0m\u001b[37m\u001b[0m \u001b[1m20s\u001b[0m 12ms/step - accuracy: 0.9209 - loss: 0.2063\n",
      "Epoch 13/20\n",
      "\u001b[1m1688/1688\u001b[0m \u001b[32m━━━━━━━━━━━━━━━━━━━━\u001b[0m\u001b[37m\u001b[0m \u001b[1m21s\u001b[0m 13ms/step - accuracy: 0.9238 - loss: 0.2003\n",
      "Epoch 14/20\n",
      "\u001b[1m1688/1688\u001b[0m \u001b[32m━━━━━━━━━━━━━━━━━━━━\u001b[0m\u001b[37m\u001b[0m \u001b[1m20s\u001b[0m 12ms/step - accuracy: 0.9272 - loss: 0.1898\n",
      "Epoch 15/20\n",
      "\u001b[1m1688/1688\u001b[0m \u001b[32m━━━━━━━━━━━━━━━━━━━━\u001b[0m\u001b[37m\u001b[0m \u001b[1m20s\u001b[0m 12ms/step - accuracy: 0.9293 - loss: 0.1838\n",
      "Epoch 16/20\n",
      "\u001b[1m1688/1688\u001b[0m \u001b[32m━━━━━━━━━━━━━━━━━━━━\u001b[0m\u001b[37m\u001b[0m \u001b[1m21s\u001b[0m 12ms/step - accuracy: 0.9302 - loss: 0.1793\n",
      "Epoch 17/20\n",
      "\u001b[1m1688/1688\u001b[0m \u001b[32m━━━━━━━━━━━━━━━━━━━━\u001b[0m\u001b[37m\u001b[0m \u001b[1m24s\u001b[0m 14ms/step - accuracy: 0.9328 - loss: 0.1738\n",
      "Epoch 18/20\n",
      "\u001b[1m1688/1688\u001b[0m \u001b[32m━━━━━━━━━━━━━━━━━━━━\u001b[0m\u001b[37m\u001b[0m \u001b[1m20s\u001b[0m 12ms/step - accuracy: 0.9367 - loss: 0.1678\n",
      "Epoch 19/20\n",
      "\u001b[1m1688/1688\u001b[0m \u001b[32m━━━━━━━━━━━━━━━━━━━━\u001b[0m\u001b[37m\u001b[0m \u001b[1m23s\u001b[0m 14ms/step - accuracy: 0.9396 - loss: 0.1565\n",
      "Epoch 20/20\n",
      "\u001b[1m1688/1688\u001b[0m \u001b[32m━━━━━━━━━━━━━━━━━━━━\u001b[0m\u001b[37m\u001b[0m \u001b[1m21s\u001b[0m 12ms/step - accuracy: 0.9408 - loss: 0.1528\n"
     ]
    }
   ],
   "source": [
    "train_stats = f_mnist_model.fit(train_ds, epochs=20, verbose=1)\n",
    "# Więcej epok"
   ]
  },
  {
   "cell_type": "code",
   "execution_count": 12,
   "id": "6877b8dc-f881-44ec-8291-b438c28bc2f0",
   "metadata": {},
   "outputs": [
    {
     "data": {
      "image/png": "[encoded data removed]",
      "text/plain": [
       "<Figure size 800x500 with 1 Axes>"
      ]
     },
     "metadata": {},
     "output_type": "display_data"
    }
   ],
   "source": [
    "pd.DataFrame(train_stats.history).plot(figsize=(8, 5))\n",
    "plt.grid(True)\n",
    "plt.gca().set_ylim(0, 1)\n",
    "plt.show()"
   ]
  },
  {
   "cell_type": "code",
   "execution_count": 13,
   "id": "eff68498-9924-43da-9d03-cfdd88a505e5",
   "metadata": {},
   "outputs": [
    {
     "name": "stdout",
     "output_type": "stream",
     "text": [
      "\u001b[1m188/188\u001b[0m \u001b[32m━━━━━━━━━━━━━━━━━━━━\u001b[0m\u001b[37m\u001b[0m \u001b[1m1s\u001b[0m 5ms/step   \n",
      "probs :  [6.9828914e-13 8.6246314e-12 8.9403840e-14 1.0867587e-12 9.3879703e-11\n",
      " 2.6167321e-05 4.4896682e-12 9.9997282e-01 1.9100918e-08 9.8307441e-07]\n",
      "klasa : 7\n",
      "rzeczywista klasa:  7\n"
     ]
    },
    {
     "data": {
      "text/plain": [
       "'\\nprobs :  [4.0548810e-15 1.0000000e+00 9.3477974e-17 5.3090128e-13 7.5702587e-15\\n 5.9295928e-25 2.1536054e-11 3.4459677e-24 2.8725664e-16 2.4974258e-22]\\nklasa : 1\\nrzeczywista klasa:  1\\n'"
      ]
     },
     "execution_count": 13,
     "metadata": {},
     "output_type": "execute_result"
    }
   ],
   "source": [
    "y_pred = f_mnist_model.predict(X_test)\n",
    "print(\"probs : \", y_pred[2])\n",
    "print(\"klasa :\", np.argmax(y_pred[2]))\n",
    "print(\"rzeczywista klasa: \", y_test[2])\n",
    "\n",
    "\"\"\"\n",
    "probs :  [4.0548810e-15 1.0000000e+00 9.3477974e-17 5.3090128e-13 7.5702587e-15\n",
    " 5.9295928e-25 2.1536054e-11 3.4459677e-24 2.8725664e-16 2.4974258e-22]\n",
    "klasa : 1\n",
    "rzeczywista klasa:  1\n",
    "\"\"\""
   ]
  },
  {
   "cell_type": "code",
   "execution_count": 14,
   "id": "4a301b07-8bab-4c30-8372-a26bd7599950",
   "metadata": {},
   "outputs": [
    {
     "name": "stdout",
     "output_type": "stream",
     "text": [
      "\u001b[1m188/188\u001b[0m \u001b[32m━━━━━━━━━━━━━━━━━━━━\u001b[0m\u001b[37m\u001b[0m \u001b[1m1s\u001b[0m 5ms/step - accuracy: 0.8940 - loss: 0.3513\n",
      "Test Accuracy: 0.8928\n"
     ]
    }
   ],
   "source": [
    "test_ds = tf.data.Dataset.from_tensor_slices((X_test, y_test)).batch(32)\n",
    "\n",
    "test_loss, test_accuracy = f_mnist_model.evaluate(test_ds, verbose=1)\n",
    "print(f\"Test Accuracy: {test_accuracy:.4f}\")\n"
   ]
  },
  {
   "cell_type": "markdown",
   "id": "544f379f-2fdb-4070-af22-fd2b80867825",
   "metadata": {},
   "source": [
    "**2**"
   ]
  },
  {
   "cell_type": "markdown",
   "id": "21e294a2-3c94-4c36-91db-05632472487f",
   "metadata": {},
   "source": [
    "Drugim krokiem będzie zapisanie i dostarczenie modelu oraz napisanie interfejsu, który przyjmuje wartość wejściową oraz zwraca wartość przewidzianą przez nasz model wraz z wyrysowanym obrazem wejściowym (aby można było zweryfikować wizualnie, czy działa)."
   ]
  },
  {
   "cell_type": "code",
   "execution_count": 15,
   "id": "3acabf88-7374-46a8-bbdf-3350af291a14",
   "metadata": {},
   "outputs": [],
   "source": [
    "# Zapisanie modelu\n",
    "f_mnist_model.save('fashion_mnist_model.keras')\n"
   ]
  },
  {
   "cell_type": "code",
   "execution_count": 16,
   "id": "15a44832-508f-453b-be67-94868ed016e6",
   "metadata": {},
   "outputs": [],
   "source": [
    "# Załadowanie modelu\n",
    "loaded_model = tf.keras.models.load_model('fashion_mnist_model.keras')\n"
   ]
  },
  {
   "cell_type": "code",
   "execution_count": 17,
   "id": "352fac5c-06f5-434d-91a1-72dceabe7a33",
   "metadata": {},
   "outputs": [],
   "source": [
    "import matplotlib.pyplot as plt\n",
    "import numpy as np\n",
    "\n",
    "def predict_and_plot(model, image):\n",
    "    # Dodajemy wymiar dla batch size (model wymaga batcha)\n",
    "    image = np.expand_dims(image, axis=0)\n",
    "    \n",
    "    # Predykcja\n",
    "    predictions = model.predict(image)\n",
    "    predicted_label = np.argmax(predictions[0])  # Indeks klasy z największym prawdopodobieństwem\n",
    "    \n",
    "    # Wyświetlanie obrazu oraz przewidywania\n",
    "    plt.imshow(image[0], cmap='gray')\n",
    "    plt.title(f\"Predicted Label: {predicted_label}\")\n",
    "    plt.axis('off')  # Wyłącz osie\n",
    "    plt.show()\n",
    "\n",
    "    return predicted_label\n"
   ]
  },
  {
   "cell_type": "markdown",
   "id": "fd92ac08-304c-426c-83f5-456b7fbd7907",
   "metadata": {},
   "source": [
    "Label\tDescription\n",
    "0\tT-shirt/top\n",
    "1\tTrouser\n",
    "2\tPullover\n",
    "3\tDress\n",
    "4\tCoat\n",
    "5\tSandal\n",
    "6\tShirt\n",
    "7\tSneaker\n",
    "8\tBag\n",
    "9\tAnkle boot"
   ]
  },
  {
   "cell_type": "code",
   "execution_count": 18,
   "id": "1d227437-651a-4353-b019-73890bcb81ca",
   "metadata": {},
   "outputs": [
    {
     "name": "stdout",
     "output_type": "stream",
     "text": [
      "\u001b[1m1/1\u001b[0m \u001b[32m━━━━━━━━━━━━━━━━━━━━\u001b[0m\u001b[37m\u001b[0m \u001b[1m0s\u001b[0m 275ms/step\n"
     ]
    },
    {
     "data": {
      "image/png": "[encoded data removed]",
      "text/plain": [
       "<Figure size 640x480 with 1 Axes>"
      ]
     },
     "metadata": {},
     "output_type": "display_data"
    },
    {
     "name": "stdout",
     "output_type": "stream",
     "text": [
      "Predicted Label: 9\n"
     ]
    }
   ],
   "source": [
    "# Wybieramy pierwszy obraz z zestawu testowego\n",
    "image_to_predict = test_images[0]\n",
    "\n",
    "# Predykcja na podstawie załadowanego modelu\n",
    "predicted_label = predict_and_plot(loaded_model, image_to_predict)\n",
    "print(f\"Predicted Label: {predicted_label}\")\n"
   ]
  },
  {
   "cell_type": "markdown",
   "id": "761b7fb4-b996-48f9-b50a-6fbddb2c9eb9",
   "metadata": {},
   "source": [
    "**3**"
   ]
  },
  {
   "cell_type": "markdown",
   "id": "16a82f35-8bd9-4c13-b3f9-0dbc5eed1de6",
   "metadata": {},
   "source": [
    "Trzecim krokiem będzie podbicie naszego wyniku do około 0.97 poprzez użycie technik augumentacji, czyli tworzenia nowy danych na bazie danych już istniejących."
   ]
  },
  {
   "cell_type": "code",
   "execution_count": 19,
   "id": "71eaf64b-91da-46c2-935e-e4ffb7e984f3",
   "metadata": {},
   "outputs": [
    {
     "name": "stderr",
     "output_type": "stream",
     "text": [
      "C:\\Users\\User\\AppData\\Local\\Programs\\Python\\Python311\\Lib\\site-packages\\albumentations\\core\\validation.py:45: UserWarning: ShiftScaleRotate is a special case of Affine transform. Please use Affine transform instead.\n",
      "  original_init(self, **validated_kwargs)\n"
     ]
    },
    {
     "data": {
      "image/png": "[encoded data removed]",
      "text/plain": [
       "<Figure size 640x480 with 1 Axes>"
      ]
     },
     "metadata": {},
     "output_type": "display_data"
    }
   ],
   "source": [
    "import albumentations as A\n",
    "from tensorflow.keras.preprocessing.image import img_to_array, array_to_img\n",
    "\n",
    "# Zdefiniowanie augmentacji\n",
    "transform = A.Compose([\n",
    "    A.Rotate(limit=20, p=1.0),  # Obracanie obrazu\n",
    "    A.HorizontalFlip(p=0.5),  # Lustrzane odbicie\n",
    "    A.RandomBrightnessContrast(p=0.2),  # Losowa zmiana jasności i kontrastu\n",
    "    A.ShiftScaleRotate(shift_limit=0.1, scale_limit=0.1, rotate_limit=10, p=1.0),  # Przesunięcie i zniekształcenie\n",
    "])\n",
    "\n",
    "# Augmentacja danych\n",
    "def augment_image(image):\n",
    "    augmented = transform(image=image)\n",
    "    return augmented['image']\n",
    "\n",
    "# Przykład augmentacji dla jednego obrazu\n",
    "augmented_image = augment_image(train_images[0])\n",
    "\n",
    "# Wizualizacja wyników augmentacji\n",
    "plt.imshow(augmented_image, cmap='gray')\n",
    "plt.title(\"Augmented Image\")\n",
    "plt.show()\n"
   ]
  },
  {
   "cell_type": "code",
   "execution_count": 20,
   "id": "1036a258-fa64-43d6-984d-eb6717021cd6",
   "metadata": {},
   "outputs": [],
   "source": [
    "# Funkcja generująca obrazy po augmentacji\n",
    "def generate_augmented_images(images, labels, batch_size=32):\n",
    "    while True:\n",
    "        for start in range(0, len(images), batch_size):\n",
    "            end = min(start + batch_size, len(images))\n",
    "            batch_images = images[start:end]\n",
    "            batch_labels = labels[start:end]\n",
    "            augmented_images = np.array([augment_image(img) for img in batch_images])\n",
    "            yield augmented_images, batch_labels\n"
   ]
  },
  {
   "cell_type": "code",
   "execution_count": 21,
   "id": "8ed15171-a917-405c-a655-0c238281f789",
   "metadata": {},
   "outputs": [
    {
     "name": "stdout",
     "output_type": "stream",
     "text": [
      "Epoch 1/10\n",
      "\u001b[1m1875/1875\u001b[0m \u001b[32m━━━━━━━━━━━━━━━━━━━━\u001b[0m\u001b[37m\u001b[0m \u001b[1m78s\u001b[0m 42ms/step - accuracy: 0.6577 - loss: 1.0448 \n",
      "Epoch 2/10\n",
      "\u001b[1m1875/1875\u001b[0m \u001b[32m━━━━━━━━━━━━━━━━━━━━\u001b[0m\u001b[37m\u001b[0m \u001b[1m74s\u001b[0m 39ms/step - accuracy: 0.7415 - loss: 0.6835 \n",
      "Epoch 3/10\n",
      "\u001b[1m1875/1875\u001b[0m \u001b[32m━━━━━━━━━━━━━━━━━━━━\u001b[0m\u001b[37m\u001b[0m \u001b[1m77s\u001b[0m 41ms/step - accuracy: 0.7587 - loss: 0.6379 \n",
      "Epoch 4/10\n",
      "\u001b[1m1875/1875\u001b[0m \u001b[32m━━━━━━━━━━━━━━━━━━━━\u001b[0m\u001b[37m\u001b[0m \u001b[1m76s\u001b[0m 40ms/step - accuracy: 0.7661 - loss: 0.6166 \n",
      "Epoch 5/10\n",
      "\u001b[1m1875/1875\u001b[0m \u001b[32m━━━━━━━━━━━━━━━━━━━━\u001b[0m\u001b[37m\u001b[0m \u001b[1m75s\u001b[0m 40ms/step - accuracy: 0.7769 - loss: 0.5956 \n",
      "Epoch 6/10\n",
      "\u001b[1m1875/1875\u001b[0m \u001b[32m━━━━━━━━━━━━━━━━━━━━\u001b[0m\u001b[37m\u001b[0m \u001b[1m76s\u001b[0m 40ms/step - accuracy: 0.7815 - loss: 0.5803 \n",
      "Epoch 7/10\n",
      "\u001b[1m1875/1875\u001b[0m \u001b[32m━━━━━━━━━━━━━━━━━━━━\u001b[0m\u001b[37m\u001b[0m \u001b[1m76s\u001b[0m 40ms/step - accuracy: 0.7856 - loss: 0.5681 \n",
      "Epoch 8/10\n",
      "\u001b[1m1875/1875\u001b[0m \u001b[32m━━━━━━━━━━━━━━━━━━━━\u001b[0m\u001b[37m\u001b[0m \u001b[1m78s\u001b[0m 42ms/step - accuracy: 0.7933 - loss: 0.5565 \n",
      "Epoch 9/10\n",
      "\u001b[1m1875/1875\u001b[0m \u001b[32m━━━━━━━━━━━━━━━━━━━━\u001b[0m\u001b[37m\u001b[0m \u001b[1m77s\u001b[0m 41ms/step - accuracy: 0.7950 - loss: 0.5448 \n",
      "Epoch 10/10\n",
      "\u001b[1m1875/1875\u001b[0m \u001b[32m━━━━━━━━━━━━━━━━━━━━\u001b[0m\u001b[37m\u001b[0m \u001b[1m77s\u001b[0m 41ms/step - accuracy: 0.7964 - loss: 0.5405 \n"
     ]
    },
    {
     "data": {
      "text/plain": [
       "<keras.src.callbacks.history.History at 0x1f6bfd89b50>"
      ]
     },
     "execution_count": 21,
     "metadata": {},
     "output_type": "execute_result"
    }
   ],
   "source": [
    "# Trenowanie modelu z augmentacją\n",
    "f_mnist_model.fit(generate_augmented_images(train_images, train_labels, batch_size=32), epochs=10, steps_per_epoch=len(train_images) // 32)"
   ]
  },
  {
   "cell_type": "code",
   "execution_count": 22,
   "id": "7375ef62-d9b4-40d2-b4bf-88a091764ed5",
   "metadata": {},
   "outputs": [
    {
     "name": "stdout",
     "output_type": "stream",
     "text": [
      "\u001b[1m313/313\u001b[0m \u001b[32m━━━━━━━━━━━━━━━━━━━━\u001b[0m\u001b[37m\u001b[0m \u001b[1m2s\u001b[0m 5ms/step - accuracy: 0.8477 - loss: 0.4130 \n",
      "Test accuracy: 0.8438000082969666\n"
     ]
    }
   ],
   "source": [
    "# Ocena modelu na zbiorze testowym\n",
    "test_loss, test_acc = f_mnist_model.evaluate(test_images, test_labels)\n",
    "print(f\"Test accuracy: {test_acc}\")\n"
   ]
  },
  {
   "cell_type": "code",
   "execution_count": 23,
   "id": "3e3fdab9-7f0b-4136-a47b-9a06a32a2491",
   "metadata": {},
   "outputs": [],
   "source": [
    "import albumentations as A\n",
    "from albumentations.core.composition import OneOf\n",
    "from albumentations.core.transforms_interface import ImageOnlyTransform\n",
    "import cv2\n",
    "import numpy as np\n",
    "import tensorflow as tf\n",
    "from tensorflow.keras import layers\n",
    "from sklearn.model_selection import train_test_split\n"
   ]
  },
  {
   "cell_type": "code",
   "execution_count": 27,
   "id": "214f8b34-9945-47ba-8fc1-9b3859da3bad",
   "metadata": {},
   "outputs": [
    {
     "name": "stderr",
     "output_type": "stream",
     "text": [
      "C:\\Users\\User\\AppData\\Local\\Programs\\Python\\Python311\\Lib\\site-packages\\albumentations\\core\\validation.py:45: UserWarning: ShiftScaleRotate is a special case of Affine transform. Please use Affine transform instead.\n",
      "  original_init(self, **validated_kwargs)\n"
     ]
    },
    {
     "name": "stdout",
     "output_type": "stream",
     "text": [
      "Epoch 1/30\n"
     ]
    },
    {
     "name": "stderr",
     "output_type": "stream",
     "text": [
      "C:\\Users\\User\\AppData\\Local\\Programs\\Python\\Python311\\Lib\\site-packages\\keras\\src\\layers\\reshaping\\flatten.py:37: UserWarning: Do not pass an `input_shape`/`input_dim` argument to a layer. When using Sequential models, prefer using an `Input(shape)` object as the first layer in the model instead.\n",
      "  super().__init__(**kwargs)\n"
     ]
    },
    {
     "name": "stdout",
     "output_type": "stream",
     "text": [
      "\u001b[1m3375/3375\u001b[0m \u001b[32m━━━━━━━━━━━━━━━━━━━━\u001b[0m\u001b[37m\u001b[0m \u001b[1m54s\u001b[0m 14ms/step - accuracy: 0.7454 - loss: 0.6943 - val_accuracy: 0.8387 - val_loss: 0.4291\n",
      "Epoch 2/30\n",
      "\u001b[1m3375/3375\u001b[0m \u001b[32m━━━━━━━━━━━━━━━━━━━━\u001b[0m\u001b[37m\u001b[0m \u001b[1m47s\u001b[0m 14ms/step - accuracy: 0.8280 - loss: 0.4674 - val_accuracy: 0.8515 - val_loss: 0.3940\n",
      "Epoch 3/30\n",
      "\u001b[1m3375/3375\u001b[0m \u001b[32m━━━━━━━━━━━━━━━━━━━━\u001b[0m\u001b[37m\u001b[0m \u001b[1m49s\u001b[0m 15ms/step - accuracy: 0.8421 - loss: 0.4297 - val_accuracy: 0.8592 - val_loss: 0.3826\n",
      "Epoch 4/30\n",
      "\u001b[1m3375/3375\u001b[0m \u001b[32m━━━━━━━━━━━━━━━━━━━━\u001b[0m\u001b[37m\u001b[0m \u001b[1m54s\u001b[0m 16ms/step - accuracy: 0.8511 - loss: 0.4069 - val_accuracy: 0.8662 - val_loss: 0.3599\n",
      "Epoch 5/30\n",
      "\u001b[1m3375/3375\u001b[0m \u001b[32m━━━━━━━━━━━━━━━━━━━━\u001b[0m\u001b[37m\u001b[0m \u001b[1m53s\u001b[0m 16ms/step - accuracy: 0.8535 - loss: 0.3961 - val_accuracy: 0.8667 - val_loss: 0.3538\n",
      "Epoch 6/30\n",
      "\u001b[1m3375/3375\u001b[0m \u001b[32m━━━━━━━━━━━━━━━━━━━━\u001b[0m\u001b[37m\u001b[0m \u001b[1m53s\u001b[0m 16ms/step - accuracy: 0.8599 - loss: 0.3785 - val_accuracy: 0.8737 - val_loss: 0.3374\n",
      "Epoch 7/30\n",
      "\u001b[1m3375/3375\u001b[0m \u001b[32m━━━━━━━━━━━━━━━━━━━━\u001b[0m\u001b[37m\u001b[0m \u001b[1m62s\u001b[0m 18ms/step - accuracy: 0.8659 - loss: 0.3675 - val_accuracy: 0.8738 - val_loss: 0.3372\n",
      "Epoch 8/30\n",
      "\u001b[1m3375/3375\u001b[0m \u001b[32m━━━━━━━━━━━━━━━━━━━━\u001b[0m\u001b[37m\u001b[0m \u001b[1m53s\u001b[0m 16ms/step - accuracy: 0.8660 - loss: 0.3641 - val_accuracy: 0.8778 - val_loss: 0.3310\n",
      "Epoch 9/30\n",
      "\u001b[1m3375/3375\u001b[0m \u001b[32m━━━━━━━━━━━━━━━━━━━━\u001b[0m\u001b[37m\u001b[0m \u001b[1m58s\u001b[0m 17ms/step - accuracy: 0.8684 - loss: 0.3569 - val_accuracy: 0.8782 - val_loss: 0.3279\n",
      "Epoch 10/30\n",
      "\u001b[1m3375/3375\u001b[0m \u001b[32m━━━━━━━━━━━━━━━━━━━━\u001b[0m\u001b[37m\u001b[0m \u001b[1m56s\u001b[0m 17ms/step - accuracy: 0.8719 - loss: 0.3516 - val_accuracy: 0.8788 - val_loss: 0.3250\n",
      "Epoch 11/30\n",
      "\u001b[1m3375/3375\u001b[0m \u001b[32m━━━━━━━━━━━━━━━━━━━━\u001b[0m\u001b[37m\u001b[0m \u001b[1m71s\u001b[0m 21ms/step - accuracy: 0.8719 - loss: 0.3467 - val_accuracy: 0.8796 - val_loss: 0.3191\n",
      "Epoch 12/30\n",
      "\u001b[1m3375/3375\u001b[0m \u001b[32m━━━━━━━━━━━━━━━━━━━━\u001b[0m\u001b[37m\u001b[0m \u001b[1m74s\u001b[0m 22ms/step - accuracy: 0.8755 - loss: 0.3379 - val_accuracy: 0.8777 - val_loss: 0.3233\n",
      "Epoch 13/30\n",
      "\u001b[1m3375/3375\u001b[0m \u001b[32m━━━━━━━━━━━━━━━━━━━━\u001b[0m\u001b[37m\u001b[0m \u001b[1m74s\u001b[0m 22ms/step - accuracy: 0.8751 - loss: 0.3361 - val_accuracy: 0.8814 - val_loss: 0.3224\n",
      "Epoch 14/30\n",
      "\u001b[1m3375/3375\u001b[0m \u001b[32m━━━━━━━━━━━━━━━━━━━━\u001b[0m\u001b[37m\u001b[0m \u001b[1m67s\u001b[0m 20ms/step - accuracy: 0.8766 - loss: 0.3316 - val_accuracy: 0.8824 - val_loss: 0.3197\n",
      "Epoch 15/30\n",
      "\u001b[1m3375/3375\u001b[0m \u001b[32m━━━━━━━━━━━━━━━━━━━━\u001b[0m\u001b[37m\u001b[0m \u001b[1m64s\u001b[0m 19ms/step - accuracy: 0.8766 - loss: 0.3341 - val_accuracy: 0.8850 - val_loss: 0.3139\n",
      "Epoch 16/30\n",
      "\u001b[1m3375/3375\u001b[0m \u001b[32m━━━━━━━━━━━━━━━━━━━━\u001b[0m\u001b[37m\u001b[0m \u001b[1m64s\u001b[0m 19ms/step - accuracy: 0.8792 - loss: 0.3266 - val_accuracy: 0.8862 - val_loss: 0.3119\n",
      "Epoch 17/30\n",
      "\u001b[1m3375/3375\u001b[0m \u001b[32m━━━━━━━━━━━━━━━━━━━━\u001b[0m\u001b[37m\u001b[0m \u001b[1m63s\u001b[0m 19ms/step - accuracy: 0.8819 - loss: 0.3191 - val_accuracy: 0.8866 - val_loss: 0.3119\n",
      "Epoch 18/30\n",
      "\u001b[1m3375/3375\u001b[0m \u001b[32m━━━━━━━━━━━━━━━━━━━━\u001b[0m\u001b[37m\u001b[0m \u001b[1m59s\u001b[0m 18ms/step - accuracy: 0.8816 - loss: 0.3221 - val_accuracy: 0.8884 - val_loss: 0.3070\n",
      "Epoch 19/30\n",
      "\u001b[1m3375/3375\u001b[0m \u001b[32m━━━━━━━━━━━━━━━━━━━━\u001b[0m\u001b[37m\u001b[0m \u001b[1m59s\u001b[0m 17ms/step - accuracy: 0.8835 - loss: 0.3146 - val_accuracy: 0.8829 - val_loss: 0.3312\n",
      "Epoch 20/30\n",
      "\u001b[1m3375/3375\u001b[0m \u001b[32m━━━━━━━━━━━━━━━━━━━━\u001b[0m\u001b[37m\u001b[0m \u001b[1m99s\u001b[0m 29ms/step - accuracy: 0.8834 - loss: 0.3198 - val_accuracy: 0.8858 - val_loss: 0.3107\n",
      "Epoch 21/30\n",
      "\u001b[1m3375/3375\u001b[0m \u001b[32m━━━━━━━━━━━━━━━━━━━━\u001b[0m\u001b[37m\u001b[0m \u001b[1m71s\u001b[0m 21ms/step - accuracy: 0.8836 - loss: 0.3139 - val_accuracy: 0.8857 - val_loss: 0.3113\n",
      "Epoch 22/30\n",
      "\u001b[1m3375/3375\u001b[0m \u001b[32m━━━━━━━━━━━━━━━━━━━━\u001b[0m\u001b[37m\u001b[0m \u001b[1m60s\u001b[0m 18ms/step - accuracy: 0.8857 - loss: 0.3092 - val_accuracy: 0.8879 - val_loss: 0.3073\n",
      "Epoch 23/30\n",
      "\u001b[1m3375/3375\u001b[0m \u001b[32m━━━━━━━━━━━━━━━━━━━━\u001b[0m\u001b[37m\u001b[0m \u001b[1m61s\u001b[0m 18ms/step - accuracy: 0.8866 - loss: 0.3053 - val_accuracy: 0.8848 - val_loss: 0.3158\n",
      "Epoch 24/30\n",
      "\u001b[1m3375/3375\u001b[0m \u001b[32m━━━━━━━━━━━━━━━━━━━━\u001b[0m\u001b[37m\u001b[0m \u001b[1m62s\u001b[0m 18ms/step - accuracy: 0.8880 - loss: 0.3050 - val_accuracy: 0.8916 - val_loss: 0.3075\n",
      "Epoch 25/30\n",
      "\u001b[1m3375/3375\u001b[0m \u001b[32m━━━━━━━━━━━━━━━━━━━━\u001b[0m\u001b[37m\u001b[0m \u001b[1m65s\u001b[0m 19ms/step - accuracy: 0.8859 - loss: 0.3069 - val_accuracy: 0.8878 - val_loss: 0.3131\n",
      "Epoch 26/30\n",
      "\u001b[1m3375/3375\u001b[0m \u001b[32m━━━━━━━━━━━━━━━━━━━━\u001b[0m\u001b[37m\u001b[0m \u001b[1m63s\u001b[0m 19ms/step - accuracy: 0.8875 - loss: 0.3039 - val_accuracy: 0.8867 - val_loss: 0.3167\n",
      "Epoch 27/30\n",
      "\u001b[1m3375/3375\u001b[0m \u001b[32m━━━━━━━━━━━━━━━━━━━━\u001b[0m\u001b[37m\u001b[0m \u001b[1m64s\u001b[0m 19ms/step - accuracy: 0.8882 - loss: 0.3028 - val_accuracy: 0.8898 - val_loss: 0.3038\n",
      "Epoch 28/30\n",
      "\u001b[1m3375/3375\u001b[0m \u001b[32m━━━━━━━━━━━━━━━━━━━━\u001b[0m\u001b[37m\u001b[0m \u001b[1m63s\u001b[0m 19ms/step - accuracy: 0.8904 - loss: 0.2970 - val_accuracy: 0.8859 - val_loss: 0.3204\n",
      "Epoch 29/30\n",
      "\u001b[1m3375/3375\u001b[0m \u001b[32m━━━━━━━━━━━━━━━━━━━━\u001b[0m\u001b[37m\u001b[0m \u001b[1m63s\u001b[0m 19ms/step - accuracy: 0.8899 - loss: 0.2968 - val_accuracy: 0.8913 - val_loss: 0.3113\n",
      "Epoch 30/30\n",
      "\u001b[1m3375/3375\u001b[0m \u001b[32m━━━━━━━━━━━━━━━━━━━━\u001b[0m\u001b[37m\u001b[0m \u001b[1m65s\u001b[0m 19ms/step - accuracy: 0.8911 - loss: 0.2901 - val_accuracy: 0.8937 - val_loss: 0.3060\n"
     ]
    }
   ],
   "source": [
    "# Funkcja do augmentacji danych\n",
    "augmenter = A.Compose([\n",
    "    A.Rotate(limit=10, p=0.5),\n",
    "    A.ShiftScaleRotate(shift_limit=0.05, scale_limit=0.05, rotate_limit=5, p=0.5),\n",
    "    A.GaussianBlur(blur_limit=(1, 3), p=0.2),\n",
    "    A.HorizontalFlip(p=0.5)\n",
    "\n",
    "])\n",
    "\n",
    "# Funkcja do zastosowania augmentacji na całym zbiorze\n",
    "def augment_images(images, labels):\n",
    "    augmented_images = []\n",
    "    augmented_labels = []\n",
    "    for img, lbl in zip(images, labels):\n",
    "        img_augmented = augmenter(image=img)['image']\n",
    "        augmented_images.append(img_augmented)\n",
    "        augmented_labels.append(lbl)\n",
    "    return np.array(augmented_images), np.array(augmented_labels)\n",
    "\n",
    "# Augmentacja danych\n",
    "augmented_images, augmented_labels = augment_images(train_images, train_labels)\n",
    "\n",
    "# Łączenie oryginalnych i zaugmentowanych danych\n",
    "final_train_images = np.concatenate([train_images, augmented_images], axis=0)\n",
    "final_train_labels = np.concatenate([train_labels, augmented_labels], axis=0)\n",
    "\n",
    "# Podział na zbiory treningowe i walidacyjne\n",
    "X_train, X_test, y_train, y_test = train_test_split(final_train_images, final_train_labels, test_size=0.1, random_state=10, stratify=final_train_labels)\n",
    "\n",
    "# Tworzenie datasetu TensorFlow\n",
    "train_ds = tf.data.Dataset.from_tensor_slices((X_train, y_train)).shuffle(1000).batch(32)\n",
    "test_ds = tf.data.Dataset.from_tensor_slices((X_test, y_test)).batch(32)\n",
    "\n",
    "### 3. Definicja modelu\n",
    "#Dodamy dropout i zwiększymy liczbę neuronów w warstwach, aby poprawić generalizację.\n",
    "\n",
    "# Definicja modelu\n",
    "f_mnist_model = tf.keras.Sequential([\n",
    "    layers.Flatten(input_shape=[28, 28]),\n",
    "    layers.Dense(512, activation='relu'),\n",
    "    layers.Dropout(0.3),\n",
    "    layers.Dense(256, activation='relu'),\n",
    "    layers.Dropout(0.3),\n",
    "    layers.Dense(10, activation='softmax')\n",
    "])\n",
    "\n",
    "# Kompilacja modelu\n",
    "f_mnist_model.compile(\n",
    "    optimizer='adam',\n",
    "    loss='sparse_categorical_crossentropy',\n",
    "    metrics=['accuracy']\n",
    ")\n",
    "\n",
    "# Trening modelu\n",
    "train_stats = f_mnist_model.fit(train_ds, validation_data=test_ds, epochs=30, verbose=1)\n"
   ]
  },
  {
   "cell_type": "code",
   "execution_count": 28,
   "id": "b0c2b3e8-2261-430b-9469-21eea3ff9d6b",
   "metadata": {},
   "outputs": [
    {
     "name": "stdout",
     "output_type": "stream",
     "text": [
      "\u001b[1m375/375\u001b[0m \u001b[32m━━━━━━━━━━━━━━━━━━━━\u001b[0m\u001b[37m\u001b[0m \u001b[1m2s\u001b[0m 6ms/step - accuracy: 0.8941 - loss: 0.3052 \n",
      "Dokładność na danych testowych: 0.89\n"
     ]
    }
   ],
   "source": [
    "test_loss, test_accuracy = f_mnist_model.evaluate(test_ds)\n",
    "print(f\"Dokładność na danych testowych: {test_accuracy:.2f}\")\n"
   ]
  },
  {
   "cell_type": "markdown",
   "id": "54079b14-e76b-40b1-a334-0385a627cdda",
   "metadata": {},
   "source": [
    "Model ulepszony: więcej neuronów, BatchNormalization, Dropout.\n",
    "Lepsza augmentacja: szum, jasność, kontrast.\n",
    "Optymalizator: Adam z harmonogramem, RMSprop.\n",
    "Callbacki: EarlyStopping, TensorBoard.\n",
    "Epoki: 50-100 z monitorowaniem walidacji."
   ]
  },
  {
   "cell_type": "code",
   "execution_count": 1,
   "id": "75296364-92f4-4132-8af5-cce87d293dea",
   "metadata": {},
   "outputs": [],
   "source": [
    "import tensorflow as tf\n",
    "from tensorflow.keras import layers\n",
    "from sklearn.model_selection import train_test_split\n",
    "import numpy as np\n",
    "import cv2"
   ]
  },
  {
   "cell_type": "code",
   "execution_count": 2,
   "id": "bcb8cdf8-409f-4618-8b7a-c925854cb6ac",
   "metadata": {},
   "outputs": [
    {
     "name": "stdout",
     "output_type": "stream",
     "text": [
      "Epoch 1/75\n"
     ]
    },
    {
     "name": "stderr",
     "output_type": "stream",
     "text": [
      "C:\\Users\\User\\AppData\\Local\\Programs\\Python\\Python311\\Lib\\site-packages\\keras\\src\\layers\\reshaping\\flatten.py:37: UserWarning: Do not pass an `input_shape`/`input_dim` argument to a layer. When using Sequential models, prefer using an `Input(shape)` object as the first layer in the model instead.\n",
      "  super().__init__(**kwargs)\n"
     ]
    },
    {
     "name": "stdout",
     "output_type": "stream",
     "text": [
      "\u001b[1m3375/3375\u001b[0m \u001b[32m━━━━━━━━━━━━━━━━━━━━\u001b[0m\u001b[37m\u001b[0m \u001b[1m13s\u001b[0m 3ms/step - accuracy: 0.7213 - loss: 0.7553 - val_accuracy: 0.8012 - val_loss: 0.5248\n",
      "Epoch 2/75\n",
      "\u001b[1m3375/3375\u001b[0m \u001b[32m━━━━━━━━━━━━━━━━━━━━\u001b[0m\u001b[37m\u001b[0m \u001b[1m12s\u001b[0m 4ms/step - accuracy: 0.8082 - loss: 0.5085 - val_accuracy: 0.8158 - val_loss: 0.4820\n",
      "Epoch 3/75\n",
      "\u001b[1m3375/3375\u001b[0m \u001b[32m━━━━━━━━━━━━━━━━━━━━\u001b[0m\u001b[37m\u001b[0m \u001b[1m12s\u001b[0m 3ms/step - accuracy: 0.8257 - loss: 0.4610 - val_accuracy: 0.8298 - val_loss: 0.4580\n",
      "Epoch 4/75\n",
      "\u001b[1m3375/3375\u001b[0m \u001b[32m━━━━━━━━━━━━━━━━━━━━\u001b[0m\u001b[37m\u001b[0m \u001b[1m12s\u001b[0m 4ms/step - accuracy: 0.8407 - loss: 0.4239 - val_accuracy: 0.8315 - val_loss: 0.4559\n",
      "Epoch 5/75\n",
      "\u001b[1m3375/3375\u001b[0m \u001b[32m━━━━━━━━━━━━━━━━━━━━\u001b[0m\u001b[37m\u001b[0m \u001b[1m12s\u001b[0m 4ms/step - accuracy: 0.8456 - loss: 0.4023 - val_accuracy: 0.8303 - val_loss: 0.4557\n",
      "Epoch 6/75\n",
      "\u001b[1m3375/3375\u001b[0m \u001b[32m━━━━━━━━━━━━━━━━━━━━\u001b[0m\u001b[37m\u001b[0m \u001b[1m13s\u001b[0m 4ms/step - accuracy: 0.8525 - loss: 0.3846 - val_accuracy: 0.8353 - val_loss: 0.4437\n",
      "Epoch 7/75\n",
      "\u001b[1m3375/3375\u001b[0m \u001b[32m━━━━━━━━━━━━━━━━━━━━\u001b[0m\u001b[37m\u001b[0m \u001b[1m13s\u001b[0m 4ms/step - accuracy: 0.8587 - loss: 0.3680 - val_accuracy: 0.8372 - val_loss: 0.4542\n",
      "Epoch 8/75\n",
      "\u001b[1m3375/3375\u001b[0m \u001b[32m━━━━━━━━━━━━━━━━━━━━\u001b[0m\u001b[37m\u001b[0m \u001b[1m13s\u001b[0m 4ms/step - accuracy: 0.8640 - loss: 0.3567 - val_accuracy: 0.8419 - val_loss: 0.4402\n",
      "Epoch 9/75\n",
      "\u001b[1m3375/3375\u001b[0m \u001b[32m━━━━━━━━━━━━━━━━━━━━\u001b[0m\u001b[37m\u001b[0m \u001b[1m13s\u001b[0m 4ms/step - accuracy: 0.8683 - loss: 0.3412 - val_accuracy: 0.8483 - val_loss: 0.4346\n",
      "Epoch 10/75\n",
      "\u001b[1m3375/3375\u001b[0m \u001b[32m━━━━━━━━━━━━━━━━━━━━\u001b[0m\u001b[37m\u001b[0m \u001b[1m15s\u001b[0m 4ms/step - accuracy: 0.8729 - loss: 0.3305 - val_accuracy: 0.8428 - val_loss: 0.4501\n",
      "Epoch 11/75\n",
      "\u001b[1m3375/3375\u001b[0m \u001b[32m━━━━━━━━━━━━━━━━━━━━\u001b[0m\u001b[37m\u001b[0m \u001b[1m13s\u001b[0m 4ms/step - accuracy: 0.8756 - loss: 0.3230 - val_accuracy: 0.8446 - val_loss: 0.4480\n",
      "Epoch 12/75\n",
      "\u001b[1m3375/3375\u001b[0m \u001b[32m━━━━━━━━━━━━━━━━━━━━\u001b[0m\u001b[37m\u001b[0m \u001b[1m13s\u001b[0m 4ms/step - accuracy: 0.8800 - loss: 0.3139 - val_accuracy: 0.8444 - val_loss: 0.4601\n",
      "Epoch 13/75\n",
      "\u001b[1m3375/3375\u001b[0m \u001b[32m━━━━━━━━━━━━━━━━━━━━\u001b[0m\u001b[37m\u001b[0m \u001b[1m13s\u001b[0m 4ms/step - accuracy: 0.8826 - loss: 0.3027 - val_accuracy: 0.8480 - val_loss: 0.4522\n",
      "Epoch 14/75\n",
      "\u001b[1m3375/3375\u001b[0m \u001b[32m━━━━━━━━━━━━━━━━━━━━\u001b[0m\u001b[37m\u001b[0m \u001b[1m13s\u001b[0m 4ms/step - accuracy: 0.8865 - loss: 0.2943 - val_accuracy: 0.8512 - val_loss: 0.4477\n",
      "Epoch 15/75\n",
      "\u001b[1m3375/3375\u001b[0m \u001b[32m━━━━━━━━━━━━━━━━━━━━\u001b[0m\u001b[37m\u001b[0m \u001b[1m13s\u001b[0m 4ms/step - accuracy: 0.8883 - loss: 0.2886 - val_accuracy: 0.8482 - val_loss: 0.4586\n",
      "Epoch 16/75\n",
      "\u001b[1m3375/3375\u001b[0m \u001b[32m━━━━━━━━━━━━━━━━━━━━\u001b[0m\u001b[37m\u001b[0m \u001b[1m13s\u001b[0m 4ms/step - accuracy: 0.8917 - loss: 0.2781 - val_accuracy: 0.8481 - val_loss: 0.4843\n",
      "Epoch 17/75\n",
      "\u001b[1m3375/3375\u001b[0m \u001b[32m━━━━━━━━━━━━━━━━━━━━\u001b[0m\u001b[37m\u001b[0m \u001b[1m13s\u001b[0m 4ms/step - accuracy: 0.8937 - loss: 0.2725 - val_accuracy: 0.8500 - val_loss: 0.4785\n",
      "Epoch 18/75\n",
      "\u001b[1m3375/3375\u001b[0m \u001b[32m━━━━━━━━━━━━━━━━━━━━\u001b[0m\u001b[37m\u001b[0m \u001b[1m15s\u001b[0m 4ms/step - accuracy: 0.8982 - loss: 0.2648 - val_accuracy: 0.8451 - val_loss: 0.4966\n",
      "Epoch 19/75\n",
      "\u001b[1m3375/3375\u001b[0m \u001b[32m━━━━━━━━━━━━━━━━━━━━\u001b[0m\u001b[37m\u001b[0m \u001b[1m16s\u001b[0m 5ms/step - accuracy: 0.8991 - loss: 0.2591 - val_accuracy: 0.8487 - val_loss: 0.4990\n",
      "Epoch 20/75\n",
      "\u001b[1m3375/3375\u001b[0m \u001b[32m━━━━━━━━━━━━━━━━━━━━\u001b[0m\u001b[37m\u001b[0m \u001b[1m16s\u001b[0m 5ms/step - accuracy: 0.9000 - loss: 0.2562 - val_accuracy: 0.8507 - val_loss: 0.5088\n",
      "Epoch 21/75\n",
      "\u001b[1m3375/3375\u001b[0m \u001b[32m━━━━━━━━━━━━━━━━━━━━\u001b[0m\u001b[37m\u001b[0m \u001b[1m15s\u001b[0m 4ms/step - accuracy: 0.9034 - loss: 0.2467 - val_accuracy: 0.8417 - val_loss: 0.5307\n",
      "Epoch 22/75\n",
      "\u001b[1m3375/3375\u001b[0m \u001b[32m━━━━━━━━━━━━━━━━━━━━\u001b[0m\u001b[37m\u001b[0m \u001b[1m14s\u001b[0m 4ms/step - accuracy: 0.9057 - loss: 0.2454 - val_accuracy: 0.8505 - val_loss: 0.5189\n",
      "Epoch 23/75\n",
      "\u001b[1m3375/3375\u001b[0m \u001b[32m━━━━━━━━━━━━━━━━━━━━\u001b[0m\u001b[37m\u001b[0m \u001b[1m14s\u001b[0m 4ms/step - accuracy: 0.9054 - loss: 0.2414 - val_accuracy: 0.8455 - val_loss: 0.5628\n",
      "Epoch 24/75\n",
      "\u001b[1m3375/3375\u001b[0m \u001b[32m━━━━━━━━━━━━━━━━━━━━\u001b[0m\u001b[37m\u001b[0m \u001b[1m14s\u001b[0m 4ms/step - accuracy: 0.9092 - loss: 0.2360 - val_accuracy: 0.8504 - val_loss: 0.5524\n",
      "Epoch 25/75\n",
      "\u001b[1m3375/3375\u001b[0m \u001b[32m━━━━━━━━━━━━━━━━━━━━\u001b[0m\u001b[37m\u001b[0m \u001b[1m13s\u001b[0m 4ms/step - accuracy: 0.9125 - loss: 0.2265 - val_accuracy: 0.8466 - val_loss: 0.5722\n",
      "Epoch 26/75\n",
      "\u001b[1m3375/3375\u001b[0m \u001b[32m━━━━━━━━━━━━━━━━━━━━\u001b[0m\u001b[37m\u001b[0m \u001b[1m14s\u001b[0m 4ms/step - accuracy: 0.9119 - loss: 0.2277 - val_accuracy: 0.8499 - val_loss: 0.5656\n",
      "Epoch 27/75\n",
      "\u001b[1m3375/3375\u001b[0m \u001b[32m━━━━━━━━━━━━━━━━━━━━\u001b[0m\u001b[37m\u001b[0m \u001b[1m13s\u001b[0m 4ms/step - accuracy: 0.9139 - loss: 0.2204 - val_accuracy: 0.8446 - val_loss: 0.5770\n",
      "Epoch 28/75\n",
      "\u001b[1m3375/3375\u001b[0m \u001b[32m━━━━━━━━━━━━━━━━━━━━\u001b[0m\u001b[37m\u001b[0m \u001b[1m13s\u001b[0m 4ms/step - accuracy: 0.9160 - loss: 0.2154 - val_accuracy: 0.8526 - val_loss: 0.6087\n",
      "Epoch 29/75\n",
      "\u001b[1m3375/3375\u001b[0m \u001b[32m━━━━━━━━━━━━━━━━━━━━\u001b[0m\u001b[37m\u001b[0m \u001b[1m14s\u001b[0m 4ms/step - accuracy: 0.9180 - loss: 0.2113 - val_accuracy: 0.8496 - val_loss: 0.5977\n",
      "Epoch 30/75\n",
      "\u001b[1m3375/3375\u001b[0m \u001b[32m━━━━━━━━━━━━━━━━━━━━\u001b[0m\u001b[37m\u001b[0m \u001b[1m13s\u001b[0m 4ms/step - accuracy: 0.9200 - loss: 0.2078 - val_accuracy: 0.8497 - val_loss: 0.6311\n",
      "Epoch 31/75\n",
      "\u001b[1m3375/3375\u001b[0m \u001b[32m━━━━━━━━━━━━━━━━━━━━\u001b[0m\u001b[37m\u001b[0m \u001b[1m14s\u001b[0m 4ms/step - accuracy: 0.9205 - loss: 0.2039 - val_accuracy: 0.8477 - val_loss: 0.6394\n",
      "Epoch 32/75\n",
      "\u001b[1m3375/3375\u001b[0m \u001b[32m━━━━━━━━━━━━━━━━━━━━\u001b[0m\u001b[37m\u001b[0m \u001b[1m14s\u001b[0m 4ms/step - accuracy: 0.9212 - loss: 0.2046 - val_accuracy: 0.8504 - val_loss: 0.6324\n",
      "Epoch 33/75\n",
      "\u001b[1m3375/3375\u001b[0m \u001b[32m━━━━━━━━━━━━━━━━━━━━\u001b[0m\u001b[37m\u001b[0m \u001b[1m14s\u001b[0m 4ms/step - accuracy: 0.9213 - loss: 0.2020 - val_accuracy: 0.8429 - val_loss: 0.6624\n",
      "Epoch 34/75\n",
      "\u001b[1m3375/3375\u001b[0m \u001b[32m━━━━━━━━━━━━━━━━━━━━\u001b[0m\u001b[37m\u001b[0m \u001b[1m14s\u001b[0m 4ms/step - accuracy: 0.9234 - loss: 0.1953 - val_accuracy: 0.8492 - val_loss: 0.6761\n",
      "Epoch 35/75\n",
      "\u001b[1m3375/3375\u001b[0m \u001b[32m━━━━━━━━━━━━━━━━━━━━\u001b[0m\u001b[37m\u001b[0m \u001b[1m14s\u001b[0m 4ms/step - accuracy: 0.9260 - loss: 0.1899 - val_accuracy: 0.8478 - val_loss: 0.6862\n",
      "Epoch 36/75\n",
      "\u001b[1m3375/3375\u001b[0m \u001b[32m━━━━━━━━━━━━━━━━━━━━\u001b[0m\u001b[37m\u001b[0m \u001b[1m14s\u001b[0m 4ms/step - accuracy: 0.9260 - loss: 0.1920 - val_accuracy: 0.8445 - val_loss: 0.6971\n",
      "Epoch 37/75\n",
      "\u001b[1m3375/3375\u001b[0m \u001b[32m━━━━━━━━━━━━━━━━━━━━\u001b[0m\u001b[37m\u001b[0m \u001b[1m14s\u001b[0m 4ms/step - accuracy: 0.9277 - loss: 0.1875 - val_accuracy: 0.8451 - val_loss: 0.7109\n",
      "Epoch 38/75\n",
      "\u001b[1m3375/3375\u001b[0m \u001b[32m━━━━━━━━━━━━━━━━━━━━\u001b[0m\u001b[37m\u001b[0m \u001b[1m14s\u001b[0m 4ms/step - accuracy: 0.9283 - loss: 0.1847 - val_accuracy: 0.8476 - val_loss: 0.6975\n",
      "Epoch 39/75\n",
      "\u001b[1m3375/3375\u001b[0m \u001b[32m━━━━━━━━━━━━━━━━━━━━\u001b[0m\u001b[37m\u001b[0m \u001b[1m14s\u001b[0m 4ms/step - accuracy: 0.9286 - loss: 0.1831 - val_accuracy: 0.8519 - val_loss: 0.6961\n",
      "Epoch 40/75\n",
      "\u001b[1m3375/3375\u001b[0m \u001b[32m━━━━━━━━━━━━━━━━━━━━\u001b[0m\u001b[37m\u001b[0m \u001b[1m14s\u001b[0m 4ms/step - accuracy: 0.9295 - loss: 0.1786 - val_accuracy: 0.8398 - val_loss: 0.7070\n",
      "Epoch 41/75\n",
      "\u001b[1m3375/3375\u001b[0m \u001b[32m━━━━━━━━━━━━━━━━━━━━\u001b[0m\u001b[37m\u001b[0m \u001b[1m14s\u001b[0m 4ms/step - accuracy: 0.9309 - loss: 0.1774 - val_accuracy: 0.8468 - val_loss: 0.7147\n",
      "Epoch 42/75\n",
      "\u001b[1m3375/3375\u001b[0m \u001b[32m━━━━━━━━━━━━━━━━━━━━\u001b[0m\u001b[37m\u001b[0m \u001b[1m14s\u001b[0m 4ms/step - accuracy: 0.9330 - loss: 0.1721 - val_accuracy: 0.8497 - val_loss: 0.7560\n",
      "Epoch 43/75\n",
      "\u001b[1m3375/3375\u001b[0m \u001b[32m━━━━━━━━━━━━━━━━━━━━\u001b[0m\u001b[37m\u001b[0m \u001b[1m14s\u001b[0m 4ms/step - accuracy: 0.9330 - loss: 0.1705 - val_accuracy: 0.8474 - val_loss: 0.7862\n",
      "Epoch 44/75\n",
      "\u001b[1m3375/3375\u001b[0m \u001b[32m━━━━━━━━━━━━━━━━━━━━\u001b[0m\u001b[37m\u001b[0m \u001b[1m19s\u001b[0m 6ms/step - accuracy: 0.9343 - loss: 0.1699 - val_accuracy: 0.8466 - val_loss: 0.7873\n",
      "Epoch 45/75\n",
      "\u001b[1m3375/3375\u001b[0m \u001b[32m━━━━━━━━━━━━━━━━━━━━\u001b[0m\u001b[37m\u001b[0m \u001b[1m16s\u001b[0m 5ms/step - accuracy: 0.9354 - loss: 0.1689 - val_accuracy: 0.8466 - val_loss: 0.7731\n",
      "Epoch 46/75\n",
      "\u001b[1m3375/3375\u001b[0m \u001b[32m━━━━━━━━━━━━━━━━━━━━\u001b[0m\u001b[37m\u001b[0m \u001b[1m14s\u001b[0m 4ms/step - accuracy: 0.9357 - loss: 0.1705 - val_accuracy: 0.8469 - val_loss: 0.8142\n",
      "Epoch 47/75\n",
      "\u001b[1m3375/3375\u001b[0m \u001b[32m━━━━━━━━━━━━━━━━━━━━\u001b[0m\u001b[37m\u001b[0m \u001b[1m15s\u001b[0m 4ms/step - accuracy: 0.9374 - loss: 0.1634 - val_accuracy: 0.8495 - val_loss: 0.7867\n",
      "Epoch 48/75\n",
      "\u001b[1m3375/3375\u001b[0m \u001b[32m━━━━━━━━━━━━━━━━━━━━\u001b[0m\u001b[37m\u001b[0m \u001b[1m14s\u001b[0m 4ms/step - accuracy: 0.9375 - loss: 0.1627 - val_accuracy: 0.8415 - val_loss: 0.8379\n",
      "Epoch 49/75\n",
      "\u001b[1m3375/3375\u001b[0m \u001b[32m━━━━━━━━━━━━━━━━━━━━\u001b[0m\u001b[37m\u001b[0m \u001b[1m15s\u001b[0m 4ms/step - accuracy: 0.9382 - loss: 0.1608 - val_accuracy: 0.8454 - val_loss: 0.8154\n",
      "Epoch 50/75\n",
      "\u001b[1m3375/3375\u001b[0m \u001b[32m━━━━━━━━━━━━━━━━━━━━\u001b[0m\u001b[37m\u001b[0m \u001b[1m18s\u001b[0m 5ms/step - accuracy: 0.9374 - loss: 0.1651 - val_accuracy: 0.8498 - val_loss: 0.8304\n",
      "Epoch 51/75\n",
      "\u001b[1m3375/3375\u001b[0m \u001b[32m━━━━━━━━━━━━━━━━━━━━\u001b[0m\u001b[37m\u001b[0m \u001b[1m17s\u001b[0m 5ms/step - accuracy: 0.9411 - loss: 0.1549 - val_accuracy: 0.8457 - val_loss: 0.8824\n",
      "Epoch 52/75\n",
      "\u001b[1m3375/3375\u001b[0m \u001b[32m━━━━━━━━━━━━━━━━━━━━\u001b[0m\u001b[37m\u001b[0m \u001b[1m18s\u001b[0m 5ms/step - accuracy: 0.9397 - loss: 0.1548 - val_accuracy: 0.8428 - val_loss: 0.8691\n",
      "Epoch 53/75\n",
      "\u001b[1m3375/3375\u001b[0m \u001b[32m━━━━━━━━━━━━━━━━━━━━\u001b[0m\u001b[37m\u001b[0m \u001b[1m18s\u001b[0m 5ms/step - accuracy: 0.9411 - loss: 0.1526 - val_accuracy: 0.8480 - val_loss: 0.8924\n",
      "Epoch 54/75\n",
      "\u001b[1m3375/3375\u001b[0m \u001b[32m━━━━━━━━━━━━━━━━━━━━\u001b[0m\u001b[37m\u001b[0m \u001b[1m18s\u001b[0m 5ms/step - accuracy: 0.9418 - loss: 0.1512 - val_accuracy: 0.8436 - val_loss: 0.9138\n",
      "Epoch 55/75\n",
      "\u001b[1m3375/3375\u001b[0m \u001b[32m━━━━━━━━━━━━━━━━━━━━\u001b[0m\u001b[37m\u001b[0m \u001b[1m19s\u001b[0m 6ms/step - accuracy: 0.9433 - loss: 0.1494 - val_accuracy: 0.8462 - val_loss: 0.9640\n",
      "Epoch 56/75\n",
      "\u001b[1m3375/3375\u001b[0m \u001b[32m━━━━━━━━━━━━━━━━━━━━\u001b[0m\u001b[37m\u001b[0m \u001b[1m16s\u001b[0m 5ms/step - accuracy: 0.9409 - loss: 0.1568 - val_accuracy: 0.8469 - val_loss: 0.9062\n",
      "Epoch 57/75\n",
      "\u001b[1m3375/3375\u001b[0m \u001b[32m━━━━━━━━━━━━━━━━━━━━\u001b[0m\u001b[37m\u001b[0m \u001b[1m15s\u001b[0m 4ms/step - accuracy: 0.9448 - loss: 0.1469 - val_accuracy: 0.8435 - val_loss: 0.9378\n",
      "Epoch 58/75\n",
      "\u001b[1m3375/3375\u001b[0m \u001b[32m━━━━━━━━━━━━━━━━━━━━\u001b[0m\u001b[37m\u001b[0m \u001b[1m14s\u001b[0m 4ms/step - accuracy: 0.9431 - loss: 0.1496 - val_accuracy: 0.8420 - val_loss: 0.9646\n",
      "Epoch 59/75\n",
      "\u001b[1m3375/3375\u001b[0m \u001b[32m━━━━━━━━━━━━━━━━━━━━\u001b[0m\u001b[37m\u001b[0m \u001b[1m15s\u001b[0m 4ms/step - accuracy: 0.9437 - loss: 0.1476 - val_accuracy: 0.8465 - val_loss: 1.0592\n",
      "Epoch 60/75\n",
      "\u001b[1m3375/3375\u001b[0m \u001b[32m━━━━━━━━━━━━━━━━━━━━\u001b[0m\u001b[37m\u001b[0m \u001b[1m15s\u001b[0m 4ms/step - accuracy: 0.9461 - loss: 0.1445 - val_accuracy: 0.8442 - val_loss: 1.0085\n",
      "Epoch 61/75\n",
      "\u001b[1m3375/3375\u001b[0m \u001b[32m━━━━━━━━━━━━━━━━━━━━\u001b[0m\u001b[37m\u001b[0m \u001b[1m14s\u001b[0m 4ms/step - accuracy: 0.9460 - loss: 0.1415 - val_accuracy: 0.8439 - val_loss: 1.0993\n",
      "Epoch 62/75\n",
      "\u001b[1m3375/3375\u001b[0m \u001b[32m━━━━━━━━━━━━━━━━━━━━\u001b[0m\u001b[37m\u001b[0m \u001b[1m15s\u001b[0m 4ms/step - accuracy: 0.9453 - loss: 0.1434 - val_accuracy: 0.8456 - val_loss: 0.9925\n",
      "Epoch 63/75\n",
      "\u001b[1m3375/3375\u001b[0m \u001b[32m━━━━━━━━━━━━━━━━━━━━\u001b[0m\u001b[37m\u001b[0m \u001b[1m15s\u001b[0m 4ms/step - accuracy: 0.9461 - loss: 0.1441 - val_accuracy: 0.8441 - val_loss: 1.0211\n",
      "Epoch 64/75\n",
      "\u001b[1m3375/3375\u001b[0m \u001b[32m━━━━━━━━━━━━━━━━━━━━\u001b[0m\u001b[37m\u001b[0m \u001b[1m15s\u001b[0m 4ms/step - accuracy: 0.9474 - loss: 0.1354 - val_accuracy: 0.8453 - val_loss: 1.0058\n",
      "Epoch 65/75\n",
      "\u001b[1m3375/3375\u001b[0m \u001b[32m━━━━━━━━━━━━━━━━━━━━\u001b[0m\u001b[37m\u001b[0m \u001b[1m15s\u001b[0m 4ms/step - accuracy: 0.9477 - loss: 0.1355 - val_accuracy: 0.8449 - val_loss: 0.9946\n",
      "Epoch 66/75\n",
      "\u001b[1m3375/3375\u001b[0m \u001b[32m━━━━━━━━━━━━━━━━━━━━\u001b[0m\u001b[37m\u001b[0m \u001b[1m14s\u001b[0m 4ms/step - accuracy: 0.9489 - loss: 0.1397 - val_accuracy: 0.8484 - val_loss: 1.0137\n",
      "Epoch 67/75\n",
      "\u001b[1m3375/3375\u001b[0m \u001b[32m━━━━━━━━━━━━━━━━━━━━\u001b[0m\u001b[37m\u001b[0m \u001b[1m14s\u001b[0m 4ms/step - accuracy: 0.9493 - loss: 0.1317 - val_accuracy: 0.8449 - val_loss: 1.0360\n",
      "Epoch 68/75\n",
      "\u001b[1m3375/3375\u001b[0m \u001b[32m━━━━━━━━━━━━━━━━━━━━\u001b[0m\u001b[37m\u001b[0m \u001b[1m16s\u001b[0m 5ms/step - accuracy: 0.9506 - loss: 0.1310 - val_accuracy: 0.8453 - val_loss: 1.0944\n",
      "Epoch 69/75\n",
      "\u001b[1m3375/3375\u001b[0m \u001b[32m━━━━━━━━━━━━━━━━━━━━\u001b[0m\u001b[37m\u001b[0m \u001b[1m17s\u001b[0m 5ms/step - accuracy: 0.9502 - loss: 0.1338 - val_accuracy: 0.8458 - val_loss: 1.1120\n",
      "Epoch 70/75\n",
      "\u001b[1m3375/3375\u001b[0m \u001b[32m━━━━━━━━━━━━━━━━━━━━\u001b[0m\u001b[37m\u001b[0m \u001b[1m15s\u001b[0m 4ms/step - accuracy: 0.9508 - loss: 0.1302 - val_accuracy: 0.8424 - val_loss: 1.1401\n",
      "Epoch 71/75\n",
      "\u001b[1m3375/3375\u001b[0m \u001b[32m━━━━━━━━━━━━━━━━━━━━\u001b[0m\u001b[37m\u001b[0m \u001b[1m15s\u001b[0m 4ms/step - accuracy: 0.9518 - loss: 0.1271 - val_accuracy: 0.8440 - val_loss: 1.1219\n",
      "Epoch 72/75\n",
      "\u001b[1m3375/3375\u001b[0m \u001b[32m━━━━━━━━━━━━━━━━━━━━\u001b[0m\u001b[37m\u001b[0m \u001b[1m14s\u001b[0m 4ms/step - accuracy: 0.9496 - loss: 0.1377 - val_accuracy: 0.8463 - val_loss: 1.1255\n",
      "Epoch 73/75\n",
      "\u001b[1m3375/3375\u001b[0m \u001b[32m━━━━━━━━━━━━━━━━━━━━\u001b[0m\u001b[37m\u001b[0m \u001b[1m17s\u001b[0m 5ms/step - accuracy: 0.9509 - loss: 0.1295 - val_accuracy: 0.8446 - val_loss: 1.0875\n",
      "Epoch 74/75\n",
      "\u001b[1m3375/3375\u001b[0m \u001b[32m━━━━━━━━━━━━━━━━━━━━\u001b[0m\u001b[37m\u001b[0m \u001b[1m16s\u001b[0m 5ms/step - accuracy: 0.9518 - loss: 0.1328 - val_accuracy: 0.8378 - val_loss: 1.1563\n",
      "Epoch 75/75\n",
      "\u001b[1m3375/3375\u001b[0m \u001b[32m━━━━━━━━━━━━━━━━━━━━\u001b[0m\u001b[37m\u001b[0m \u001b[1m24s\u001b[0m 7ms/step - accuracy: 0.9507 - loss: 0.1313 - val_accuracy: 0.8446 - val_loss: 1.1741\n"
     ]
    }
   ],
   "source": [
    "# Ładowanie danych Fashion MNIST\n",
    "(train_images, train_labels), (test_images, test_labels) = tf.keras.datasets.fashion_mnist.load_data()\n",
    "\n",
    "# Normalizacja wartości pikseli\n",
    "train_images = train_images / 255.0\n",
    "test_images = test_images / 255.0\n",
    "\n",
    "# Konwersja etykiet na int32\n",
    "train_labels = train_labels.astype(np.int32)\n",
    "test_labels = test_labels.astype(np.int32)\n",
    "\n",
    "# Augmentacja danych\n",
    "def augment_image(image):\n",
    "    rows, cols = image.shape\n",
    "\n",
    "    # Odbicie w poziomie\n",
    "    image = cv2.flip(image, flipCode=1)\n",
    "\n",
    "    # Losowy obrót\n",
    "    angle = np.random.uniform(-20, 20)\n",
    "    rotation_matrix = cv2.getRotationMatrix2D((cols / 2, rows / 2), angle, 1)\n",
    "    image = cv2.warpAffine(image, rotation_matrix, (cols, rows), borderMode=cv2.BORDER_REFLECT)\n",
    "\n",
    "    # Losowe przesunięcie\n",
    "    tx = np.random.uniform(-3, 3)\n",
    "    ty = np.random.uniform(-3, 3)\n",
    "    translation_matrix = np.float32([[1, 0, tx], [0, 1, ty]])\n",
    "    image = cv2.warpAffine(image, translation_matrix, (cols, rows), borderMode=cv2.BORDER_REFLECT)\n",
    "\n",
    "    # Losowe skalowanie\n",
    "    scale = np.random.uniform(0.8, 1.2)\n",
    "    scaled_image = cv2.resize(image, None, fx=scale, fy=scale, interpolation=cv2.INTER_LINEAR)\n",
    "\n",
    "    # Dopasowanie rozmiaru do 28x28\n",
    "    scaled_image = cv2.resize(scaled_image, (28, 28), interpolation=cv2.INTER_AREA)\n",
    "\n",
    "    return scaled_image\n",
    "\n",
    "# Augmentacja zbioru treningowego\n",
    "augmented_images = []\n",
    "augmented_labels = []\n",
    "for image, label in zip(train_images, train_labels):\n",
    "    augmented_images.append(image)\n",
    "    augmented_labels.append(label)\n",
    "    augmented_images.append(augment_image(image))  # Dodanie zaugumentowanego obrazu\n",
    "    augmented_labels.append(label)\n",
    "\n",
    "augmented_images = np.array(augmented_images)\n",
    "augmented_labels = np.array(augmented_labels)\n",
    "\n",
    "# Podział danych na zbiory treningowe i walidacyjne\n",
    "X_train, X_val, y_train, y_val = train_test_split(augmented_images, augmented_labels, test_size=0.1, random_state=10, stratify=augmented_labels)\n",
    "\n",
    "# Tworzenie datasetów TensorFlow\n",
    "train_ds = tf.data.Dataset.from_tensor_slices((X_train, y_train)).shuffle(1000).batch(32)\n",
    "val_ds = tf.data.Dataset.from_tensor_slices((X_val, y_val)).batch(32)\n",
    "\n",
    "# Model\n",
    "f_mnist_model = tf.keras.Sequential([\n",
    "    layers.Flatten(input_shape=[28, 28]),\n",
    "    layers.Dense(320, activation='relu'),\n",
    "    layers.Dense(170, activation='relu'),\n",
    "    layers.Dense(10, activation='softmax')\n",
    "])\n",
    "\n",
    "# Kompilacja modelu\n",
    "f_mnist_model.compile(optimizer='adam',\n",
    "                      loss='sparse_categorical_crossentropy',\n",
    "                      metrics=['accuracy'])\n",
    "\n",
    "# Trenowanie modelu\n",
    "history = f_mnist_model.fit(train_ds, epochs=75, validation_data=val_ds)"
   ]
  }
 ],
 "metadata": {
  "kernelspec": {
   "display_name": "Python 3 (ipykernel)",
   "language": "python",
   "name": "python3"
  },
  "language_info": {
   "codemirror_mode": {
    "name": "ipython",
    "version": 3
   },
   "file_extension": ".py",
   "mimetype": "text/x-python",
   "name": "python",
   "nbconvert_exporter": "python",
   "pygments_lexer": "ipython3",
   "version": "3.11.0"
  }
 },
 "nbformat": 4,
 "nbformat_minor": 5
}
